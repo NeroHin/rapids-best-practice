{
 "cells": [
  {
   "cell_type": "code",
   "execution_count": 1,
   "metadata": {},
   "outputs": [],
   "source": [
    "from cucim.skimage.feature import canny\n",
    "from cucim.skimage.filters import gaussian, sobel\n",
    "from cucim.skimage.color import rgb2gray, rgb2hsv\n",
    "from cucim.skimage.exposure import equalize_hist\n",
    "\n",
    "\n",
    "import cupy as cp\n",
    "\n",
    "import skimage\n",
    "\n",
    "\n",
    "import os\n",
    "from matplotlib import pyplot as plt\n",
    "from tqdm import tqdm\n",
    "import time\n",
    "\n",
    "import warnings\n",
    "from typing import Optional\n",
    "\n",
    "warnings.filterwarnings(\"ignore\")\n",
    "\n",
    "# inline mode\n",
    "%matplotlib inline\n",
    "\n",
    "# read image folder path\n",
    "image_folder = \"/media/buslab/bed7bcae-c46d-4bde-874d-bdeb04d5dec9/NERO/image/\"\n",
    "\n",
    "image_list = os.listdir(image_folder)\n"
   ]
  },
  {
   "cell_type": "code",
   "execution_count": 2,
   "metadata": {},
   "outputs": [],
   "source": [
    "def apply_rgb2hsv(image, cuda: bool = False):\n",
    "\n",
    "    if cuda == True:\n",
    "        image = cp.asarray(image)\n",
    "        image = rgb2hsv(image)\n",
    "    else:\n",
    "        image = skimage.color.rgb2hsv(image)\n",
    "\n",
    "    return image\n",
    "\n",
    "\n",
    "def apply_rgb2gray(image, cuda: bool = False):\n",
    "\n",
    "    if cuda == True:\n",
    "        image = cp.asarray(image)\n",
    "        image = rgb2gray(image)\n",
    "    else:\n",
    "        image = skimage.color.rgb2gray(image)\n",
    "\n",
    "\n",
    "    return image\n",
    "\n",
    "\n",
    "def apply_gaussian(image, cuda: bool = False):\n",
    "\n",
    "    if cuda == True:\n",
    "        image = cp.asarray(image)\n",
    "        image = gaussian(image, sigma=10)\n",
    "    else:\n",
    "        image = skimage.filters.gaussian(image, sigma=10)\n",
    "\n",
    "    return image\n",
    "\n",
    "\n",
    "def apply_equalize_hist(image, cuda: bool = False):\n",
    "\n",
    "    if cuda == True:\n",
    "        image = cp.asarray(image)\n",
    "        image = equalize_hist(image)\n",
    "    else:\n",
    "        image = skimage.exposure.equalize_hist(image)\n",
    "\n",
    "    return image\n",
    "\n",
    "\n",
    "def apply_canny(image, cuda: bool = False):\n",
    "\n",
    "    if cuda == True:\n",
    "        image = rgb2gray(cp.asarray(image))\n",
    "        image = canny(image)\n",
    "    else:\n",
    "        image = skimage.color.rgb2gray(image)\n",
    "        image = skimage.feature.canny(image)\n",
    "\n",
    "    return image\n",
    "\n",
    "\n",
    "def apply_sobel(image, cuda: bool = False):\n",
    "\n",
    "    if cuda == True:\n",
    "        image = cp.asarray(image)\n",
    "        image = sobel(image)\n",
    "    else:\n",
    "        image = skimage.filters.sobel(image)\n",
    "\n",
    "    return image\n",
    "\n",
    "# function list\n",
    "\n",
    "\n",
    "benchmark_list = {'rgb2gray': apply_rgb2gray, 'rgb2hsv': apply_rgb2hsv, 'gaussian': apply_gaussian,\n",
    "                  'equalize_hist': apply_equalize_hist, 'canny': apply_canny, 'sobel': apply_sobel}\n",
    "\n",
    "# gpu n no gpu\n",
    "gpu_available = [True, False]\n",
    "\n"
   ]
  },
  {
   "cell_type": "code",
   "execution_count": null,
   "metadata": {},
   "outputs": [],
   "source": [
    "\n",
    "\n",
    "# benchmark function\n",
    "# run benchmark for each function\n",
    "for benchmark in benchmark_list.values():\n",
    "    print(f\"{benchmark.__name__} benchmark\")\n",
    "    print(\"=\"*10)\n",
    "    for gpu_available in [True, False]:\n",
    "        start = time.time()\n",
    "        for image_name in image_list:\n",
    "            image = skimage.io.imread(image_folder + image_name)\n",
    "            image = benchmark(image, cuda=gpu_available)\n",
    "        end = time.time()\n",
    "        print(\n",
    "            f\"{benchmark.__name__} with {'gpu' if gpu_available else 'no_gpu'}: {end - start} seconds\")\n",
    "        print(\"=\"*10)\n"
   ]
  },
  {
   "cell_type": "code",
   "execution_count": 4,
   "metadata": {},
   "outputs": [
    {
     "name": "stdout",
     "output_type": "stream",
     "text": [
      "apply_rgb2gray benchmark\n",
      "==========\n",
      "apply_rgb2hsv benchmark\n",
      "==========\n",
      "apply_gaussian benchmark\n",
      "==========\n",
      "apply_equalize_hist benchmark\n",
      "==========\n",
      "apply_canny benchmark\n",
      "==========\n",
      "apply_sobel benchmark\n",
      "==========\n"
     ]
    }
   ],
   "source": [
    "# single image benchmark\n",
    "\n",
    "image = skimage.io.imread(image_folder + image_list[0])\n",
    "\n",
    "for benchmark in benchmark_list.values():\n",
    "    print(f\"{benchmark.__name__} benchmark\")\n",
    "    print(\"=\"*10)\n",
    "    for gpu_available in [True]:\n",
    "        result = benchmark(image, cuda=gpu_available)\n",
    "        result = result.get() if gpu_available else image\n",
    "        # save image\n",
    "        plt.imsave(f\"/media/buslab/bed7bcae-c46d-4bde-874d-bdeb04d5dec9/NERO/rapids-best-practice/image/{benchmark.__name__}_{'gpu' if gpu_available else 'no_gpu'}_cucim.png\", result)\n"
   ]
  },
  {
   "cell_type": "code",
   "execution_count": 3,
   "metadata": {},
   "outputs": [
    {
     "name": "stdout",
     "output_type": "stream",
     "text": [
      "apply_rgb2gray benchmark\n",
      "==========\n",
      "apply_rgb2hsv benchmark\n",
      "==========\n",
      "apply_gaussian benchmark\n",
      "==========\n",
      "apply_equalize_hist benchmark\n",
      "==========\n",
      "apply_canny benchmark\n",
      "==========\n",
      "apply_sobel benchmark\n",
      "==========\n"
     ]
    }
   ],
   "source": [
    "# single image benchmark\n",
    "\n",
    "image = skimage.io.imread(image_folder + image_list[0])\n",
    "\n",
    "for benchmark in benchmark_list.values():\n",
    "    print(f\"{benchmark.__name__} benchmark\")\n",
    "    print(\"=\"*10)\n",
    "    for gpu_available in [False]:\n",
    "        result = benchmark(image, cuda=gpu_available)\n",
    "        # save image\n",
    "        plt.imsave(f\"/media/buslab/bed7bcae-c46d-4bde-874d-bdeb04d5dec9/NERO/rapids-best-practice/image/{benchmark.__name__}_{'gpu' if gpu_available else 'no_gpu'}_cucim.png\", result)\n"
   ]
  },
  {
   "cell_type": "code",
   "execution_count": 9,
   "metadata": {},
   "outputs": [],
   "source": [
    "result = skimage.color.rgb2gray(rgb=image)\n",
    "\n",
    "plt.imsave(f\"/media/buslab/bed7bcae-c46d-4bde-874d-bdeb04d5dec9/NERO/rapids-best-practice/image/skimage_rgb2gray.png\", result,cmap='gray')"
   ]
  },
  {
   "cell_type": "code",
   "execution_count": null,
   "metadata": {},
   "outputs": [],
   "source": []
  }
 ],
 "metadata": {
  "kernelspec": {
   "display_name": "cucim",
   "language": "python",
   "name": "python3"
  },
  "language_info": {
   "codemirror_mode": {
    "name": "ipython",
    "version": 3
   },
   "file_extension": ".py",
   "mimetype": "text/x-python",
   "name": "python",
   "nbconvert_exporter": "python",
   "pygments_lexer": "ipython3",
   "version": "3.8.16"
  },
  "orig_nbformat": 4,
  "vscode": {
   "interpreter": {
    "hash": "95743032174adb3120db329b5c524f464b76ef5b6497b1d2cd9a9f111eab799e"
   }
  }
 },
 "nbformat": 4,
 "nbformat_minor": 2
}
